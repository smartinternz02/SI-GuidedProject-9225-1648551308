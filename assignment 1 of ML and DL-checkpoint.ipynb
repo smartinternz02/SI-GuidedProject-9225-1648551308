{
 "cells": [
  {
   "cell_type": "code",
   "execution_count": 1,
   "id": "6a552321",
   "metadata": {},
   "outputs": [
    {
     "name": "stdout",
     "output_type": "stream",
     "text": [
      "2401\n"
     ]
    }
   ],
   "source": [
    "print(7**4)"
   ]
  },
  {
   "cell_type": "code",
   "execution_count": 2,
   "id": "f5201825",
   "metadata": {},
   "outputs": [
    {
     "name": "stdout",
     "output_type": "stream",
     "text": [
      "['Hi', 'there', 'dad!']\n"
     ]
    }
   ],
   "source": [
    "s=\"Hi there Sam!\"\n",
    "l=s.split()\n",
    "l[-1]=\"dad!\"\n",
    "print(l)"
   ]
  },
  {
   "cell_type": "code",
   "execution_count": 3,
   "id": "ef6891e4",
   "metadata": {},
   "outputs": [
    {
     "name": "stdout",
     "output_type": "stream",
     "text": [
      "The diameter of Earth is 12742 kilometers\n"
     ]
    }
   ],
   "source": [
    "planet=\"Earth\"\n",
    "diameter=12742\n",
    "print(\"The diameter of {} is {} kilometers\".format(planet,diameter))"
   ]
  },
  {
   "cell_type": "code",
   "execution_count": 4,
   "id": "d4ab04e1",
   "metadata": {},
   "outputs": [
    {
     "name": "stdout",
     "output_type": "stream",
     "text": [
      "hello\n"
     ]
    }
   ],
   "source": [
    "lst=[1,2,[3,4],[5,[100,200,[\"hello\"]],23,11],1,7]\n",
    "print(lst[3][1][2][0])"
   ]
  },
  {
   "cell_type": "code",
   "execution_count": 7,
   "id": "de444841",
   "metadata": {},
   "outputs": [
    {
     "name": "stdout",
     "output_type": "stream",
     "text": [
      "hello\n"
     ]
    }
   ],
   "source": [
    "d={'k1':[1,2,3,{'tricky':['oh','man','inception',{'target':[1,2,3,'hello']}]}]}\n",
    "print(d['k1'][3]['tricky'][3]['target'][3])"
   ]
  },
  {
   "cell_type": "code",
   "execution_count": 8,
   "id": "5e26bfe7",
   "metadata": {},
   "outputs": [
    {
     "name": "stdout",
     "output_type": "stream",
     "text": [
      "Tuples are immutable and values can't be altered within it and lists are mutable\n"
     ]
    }
   ],
   "source": [
    "print(\"Tuples are immutable and values can't be altered within it and lists are mutable\")"
   ]
  },
  {
   "cell_type": "code",
   "execution_count": 9,
   "id": "3f3b0f3a",
   "metadata": {},
   "outputs": [
    {
     "name": "stdout",
     "output_type": "stream",
     "text": [
      "domain.com\n"
     ]
    }
   ],
   "source": [
    "def domain(a):\n",
    "    return a.split(\"@\")[-1]\n",
    "print(domain(\"user@domain.com\"))"
   ]
  },
  {
   "cell_type": "code",
   "execution_count": 10,
   "id": "5c18c7a5",
   "metadata": {},
   "outputs": [
    {
     "name": "stdout",
     "output_type": "stream",
     "text": [
      "True\n"
     ]
    }
   ],
   "source": [
    "def fun(a):\n",
    "    return True if \"dog\" in a else False\n",
    "print(fun(\"dog\"))"
   ]
  },
  {
   "cell_type": "code",
   "execution_count": 11,
   "id": "0c949b97",
   "metadata": {},
   "outputs": [
    {
     "name": "stdout",
     "output_type": "stream",
     "text": [
      "0\n"
     ]
    }
   ],
   "source": [
    "def fun(a):\n",
    "    return a.count(\"dog\")\n",
    "print(fun(\"dot\"))"
   ]
  },
  {
   "cell_type": "code",
   "execution_count": 13,
   "id": "bfa02049",
   "metadata": {},
   "outputs": [
    {
     "name": "stdout",
     "output_type": "stream",
     "text": [
      "Small Ticket\n",
      "Big Ticket\n"
     ]
    }
   ],
   "source": [
    "def ticket(speed,bod):\n",
    "    if bod:\n",
    "        speed-=5\n",
    "    if speed>80:\n",
    "        return \"Big Ticket\"\n",
    "    elif speed>60:\n",
    "        return \"Small Ticket\"\n",
    "    else:\n",
    "        return \"No Ticket\"\n",
    "print(ticket(70,True))\n",
    "print(ticket(90,False))"
   ]
  },
  {
   "cell_type": "code",
   "execution_count": null,
   "id": "8d5ee866",
   "metadata": {},
   "outputs": [],
   "source": []
  }
 ],
 "metadata": {
  "kernelspec": {
   "display_name": "Python 3 (ipykernel)",
   "language": "python",
   "name": "python3"
  },
  "language_info": {
   "codemirror_mode": {
    "name": "ipython",
    "version": 3
   },
   "file_extension": ".py",
   "mimetype": "text/x-python",
   "name": "python",
   "nbconvert_exporter": "python",
   "pygments_lexer": "ipython3",
   "version": "3.9.7"
  }
 },
 "nbformat": 4,
 "nbformat_minor": 5
}
